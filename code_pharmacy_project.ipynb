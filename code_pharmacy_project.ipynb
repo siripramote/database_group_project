{
    "metadata": {
        "kernelspec": {
            "name": "SQL",
            "display_name": "SQL",
            "language": "sql"
        },
        "language_info": {
            "name": "sql",
            "version": ""
        }
    },
    "nbformat_minor": 2,
    "nbformat": 4,
    "cells": [
        {
            "cell_type": "markdown",
            "source": [
                "![](Database_Page_02.png)\r\n",
                "\r\n",
                "\r\n",
                ""
            ],
            "metadata": {
                "azdata_cell_guid": "f24b7a88-5e34-4764-aa1a-a89758146e6f"
            }
        },
        {
            "cell_type": "markdown",
            "source": [
                "![](titleproject.png)"
            ],
            "metadata": {
                "azdata_cell_guid": "e3a34e64-64e7-4195-bfd4-25c3da52ad05"
            }
        },
        {
            "cell_type": "markdown",
            "source": [
                "![](nameproject.png)"
            ],
            "metadata": {
                "azdata_cell_guid": "67bcdb21-9ac3-4390-b016-0c07a7355dce"
            },
            "attachments": {}
        },
        {
            "cell_type": "markdown",
            "source": [
                "# Excecutive Summary"
            ],
            "metadata": {
                "azdata_cell_guid": "164a5186-4f10-41be-b901-c414475c747c"
            },
            "attachments": {}
        },
        {
            "cell_type": "markdown",
            "source": [
                "<span style=\"background-color: transparent; color: rgb(0, 0, 0); font-family: Sarabun, sans-serif; font-size: 11pt; white-space: pre-wrap;\">ในอดีตร้านขายยาคือหนึ่งในสถานที่ที่เราสามารถหายาเพื่อบรรเทาอาการเจ็บป่วยได้ โดยมีเภสัชกรเป็นคนให้คำแนะนำ แต่ในปัจจุบันกระแส E-Commerce มีการเติบโตอย่างรวดเร็วไม่เว้นแม้แต่ร้านขายยา อีกทั้งร้านขายยาไม่ได้ขายเพียงแค่ยาอีกต่อไป ยังมีการขายเครื่องสำอาง ผลิตภัณฑ์รักษาสุขภาพ และอื่นๆ อีกมากมาย ยกตัวอย่าง เช่น ร้าน Boost และ Watsons ที่เห็นได้ตามปกติทั่วไป&nbsp;</span>   \n",
                "\n",
                "<span style=\"font-size: 11pt; font-family: Sarabun, sans-serif; color: rgb(0, 0, 0); background-color: transparent; font-variant-numeric: normal; font-variant-east-asian: normal; vertical-align: baseline; white-space: pre-wrap;\">Hello Pharmacy เป็นตัวอย่างที่ดีของธุรกิจร้านขายยาในการนำมาทำฐานข้อมูลเพื่อศึกษาและเก็บข้อมูลมาประยุกต์ใช้ในเชิงธุรกิจ เพื่อให้ทราบถึงการจัดการข้อมูลต่างๆ ไม่ว่าจะเป็นข้อมูล</span><span style=\"background-color: transparent; color: rgb(0, 0, 0); font-family: Sarabun, sans-serif; font-size: 11pt; white-space: pre-wrap;\">สินค้า ข้อมูลลูกค้า และคำสั่งซื้อภายในร้าน ที่จะสามารถนำไปพัฒนาและปรับปรุงสินค้าและบริการให้ตอบโจทย์ลูกค้ามากที่สุด</span>\n",
                "\n",
                "<span style=\"background-color: transparent; color: rgb(0, 0, 0); font-family: Sarabun, sans-serif; font-size: 11pt; white-space: pre-wrap;\"><br></span>\n",
                "\n",
                "<span style=\"font-size: 11pt; font-family: Sarabun, sans-serif; color: rgb(0, 0, 0); background-color: transparent; font-variant-numeric: normal; font-variant-east-asian: normal; vertical-align: baseline; white-space: pre-wrap;\">ขอบเขตการดำเนินงาน</span>\n",
                "\n",
                "- <span style=\"background-color: transparent; font-size: 11pt; white-space: pre-wrap;\">ลูกค้ามีทั้งหมด 1,000 คน โดยทุกคนเป็นสมาชิกของร้าน Hello Pharmacy</span>\n",
                "- <span style=\"background-color: transparent; font-size: 11pt; white-space: pre-wrap;\">เก็บข้อมูลตั้งแต่ 1 มกราคม จนถึง 31 ธันวาคม ของปี 2020&nbsp;</span> \n",
                "- <span style=\"background-color: transparent; font-size: 11pt; white-space: pre-wrap;\">ฐานข้อมูลนี้จัดการระบบสินค้าคงคลังแค่บางส่วนเท่านั้น</span>"
            ],
            "metadata": {
                "azdata_cell_guid": "ea9a2840-bd58-4f49-a41e-e0edcef84ae4"
            },
            "attachments": {}
        },
        {
            "cell_type": "markdown",
            "source": [
                "# Background Information"
            ],
            "metadata": {
                "azdata_cell_guid": "e4b8c929-47de-4672-b8da-5f3889dcb147"
            },
            "attachments": {}
        },
        {
            "cell_type": "markdown",
            "source": [
                "<span style=\"font-size: 11pt; font-family: Sarabun, sans-serif; color: rgb(0, 0, 0); background-color: transparent; font-variant-numeric: normal; font-variant-east-asian: normal; vertical-align: baseline; white-space: pre-wrap;\">Hello Pharmacy เป็นร้านขายยาสมัยใหม่ที่มีช่องทางการขายทั้งในสาขา ซึ่งมีมากกว่า 20 สาขา ในรูปแบบ franchise ทั่วประเทศ และมีการจัดจำหน่ายในช่องทาง online ผ่านทาง website ซึ่งมีการจัดส่งสินค้าทั่วประเทศจากหลากหลายบริษัทชั้นนำ จึงสามารถจัดส่งสินค้าออกได้ทุกวัน ไม่เว้นวันหยุดนักขัตฤกษ์ โดยสินค้าที่จัดจำหน่ายเป็นสินค้าที่มีการคัดเลือกผลิตภัณฑ์ที่มีคุณภาพ สินค้าเวชภัณฑ์ผ่านการทดลองใช้จากฝ่าย R&amp;D ของทางร้านให้ได้มาตรฐาน และมีการตรวจสอบคุณภาพอยู่เป็นประจำ ซึ่งทางร้านมีสินค้าหลากหลายประเภท ทั้งยา ผลิตภัณฑ์เครื่องสำอาง ผลิตภัณฑ์รักษาสุขภาพ และผลิตภัณฑ์ประเภทอื่นๆ อีกมากมาย</span>"
            ],
            "metadata": {
                "azdata_cell_guid": "3e86a1de-8e19-4f33-8084-23dd29c6f382"
            },
            "attachments": {}
        },
        {
            "cell_type": "markdown",
            "source": [
                "# Database Design\n",
                "\n",
                "![](.\\table1.jpg) ![](.\\table2.jpg)"
            ],
            "metadata": {
                "azdata_cell_guid": "13da65fa-18a6-482a-9fcc-de2085992bfc"
            },
            "attachments": {}
        },
        {
            "cell_type": "markdown",
            "source": [
                "# ข้อ 1 : วิเคราะห์กลุ่มเป้าหมาย (Target Customer)"
            ],
            "metadata": {
                "azdata_cell_guid": "08e0f7f7-690b-45c5-964c-a54bacbdffb9"
            }
        },
        {
            "cell_type": "code",
            "source": [
                "with cte as(\r\n",
                "    SELECT age,\r\n",
                "        case\r\n",
                "            WHEN age BETWEEN 0 and 10 then ' 0 - 10'\r\n",
                "            when age BETWEEN 11 and 20 then '11 - 20'\r\n",
                "            when age BETWEEN 21 and 30 then '21 - 30'\r\n",
                "            when age BETWEEN 31 and 40 then '31 - 40'\r\n",
                "            when age BETWEEN 41 and 50 then '41 - 50'\r\n",
                "            when age BETWEEN 51 and 60 then '51 - 60'\r\n",
                "            when age BETWEEN 61 and 70 then '61 - 70'\r\n",
                "            ELSE '- '\r\n",
                "        end as \"target_age\"\r\n",
                "        from customer\r\n",
                "),\r\n",
                "cte2 as(\r\n",
                "    select target_age , COUNT(\"target_age\") as quantity\r\n",
                "    from cte\r\n",
                "    GROUP BY target_age\r\n",
                " ),\r\n",
                " cte3 as (\r\n",
                "      select * ,\r\n",
                "    sum(quantity) over(ORDER BY target_age) cumulative_total, \r\n",
                "    sum(quantity) over() grand_total,\r\n",
                "    count(quantity) over()\r\n",
                "    from cte2\r\n",
                " )\r\n",
                "\r\n",
                "SELECT \r\n",
                "    target_age, \r\n",
                "    quantity, \r\n",
                "    to_char(quantity*100 /grand_total ,'999D99\"%\"') as percent \r\n",
                "    from cte3\r\n",
                "\r\n",
                "union\r\n",
                "\r\n",
                "select 'total', sum(quantity), ' 100.00%'\r\n",
                "    from cte3\r\n",
                "    ORDER BY target_age\r\n",
                ""
            ],
            "metadata": {
                "azdata_cell_guid": "588af690-8c16-43e6-b7b2-751269c1e787",
                "tags": []
            },
            "outputs": [
                {
                    "output_type": "display_data",
                    "data": {
                        "text/html": "(7 row(s) affected)"
                    },
                    "metadata": {}
                },
                {
                    "output_type": "display_data",
                    "data": {
                        "text/html": "Total execution time: 00:00:00.947"
                    },
                    "metadata": {}
                },
                {
                    "output_type": "execute_result",
                    "metadata": {},
                    "execution_count": 1,
                    "data": {
                        "application/vnd.dataresource+json": {
                            "schema": {
                                "fields": [
                                    {
                                        "name": "target_age"
                                    },
                                    {
                                        "name": "quantity"
                                    },
                                    {
                                        "name": "percent"
                                    }
                                ]
                            },
                            "data": [
                                {
                                    "0": "11 - 20",
                                    "1": "59",
                                    "2": "   5.90%"
                                },
                                {
                                    "0": "21 - 30",
                                    "1": "170",
                                    "2": "  17.00%"
                                },
                                {
                                    "0": "31 - 40",
                                    "1": "204",
                                    "2": "  20.40%"
                                },
                                {
                                    "0": "41 - 50",
                                    "1": "176",
                                    "2": "  17.60%"
                                },
                                {
                                    "0": "51 - 60",
                                    "1": "184",
                                    "2": "  18.40%"
                                },
                                {
                                    "0": "61 - 70",
                                    "1": "207",
                                    "2": "  20.70%"
                                },
                                {
                                    "0": "total",
                                    "1": "1000",
                                    "2": " 100.00%"
                                }
                            ]
                        },
                        "text/html": [
                            "<table>",
                            "<tr><th>target_age</th><th>quantity</th><th>percent</th></tr>",
                            "<tr><td>11 - 20</td><td>59</td><td>   5.90%</td></tr>",
                            "<tr><td>21 - 30</td><td>170</td><td>  17.00%</td></tr>",
                            "<tr><td>31 - 40</td><td>204</td><td>  20.40%</td></tr>",
                            "<tr><td>41 - 50</td><td>176</td><td>  17.60%</td></tr>",
                            "<tr><td>51 - 60</td><td>184</td><td>  18.40%</td></tr>",
                            "<tr><td>61 - 70</td><td>207</td><td>  20.70%</td></tr>",
                            "<tr><td>total</td><td>1000</td><td> 100.00%</td></tr>",
                            "</table>"
                        ]
                    }
                }
            ],
            "execution_count": 1
        },
        {
            "cell_type": "markdown",
            "source": [
                "![](graph_target_project.png)\r\n",
                "**แผนภาพเปรียบเทียบจำนวนลูกค้าในแต่ละช่วงอายุ**"
            ],
            "metadata": {
                "azdata_cell_guid": "d16784c6-eb27-418a-a653-f43d18d575ef"
            },
            "attachments": {}
        },
        {
            "cell_type": "markdown",
            "source": [
                "## สรุปผลข้อมูลข้อ1\n",
                "\n",
                "<span style=\"font-size: 11pt; font-family: Sarabun, sans-serif; color: rgb(0, 0, 0); background-color: transparent; font-variant-numeric: normal; font-variant-east-asian: normal; vertical-align: baseline; white-space: pre-wrap;\">ตารางที่ 1 สร้างมาจากตาราง customer โดย คอลัมน์ “target_age” คือช่วงอายุของลูกค้า แบ่งตามช่วงวัย คอลัมน์ “quantity” คือจำนวนของลูกค้าที่อายุ อยู่ในช่วงดังกล่าว และ คอลัมน์ “percent” คือเปอร์เซ็นต์ของจำนวนลูกค้าในช่วงอายุนั้นๆ เทียบกับจำนวนลูกค้าทั้งหมด </span> <span style=\"background-color: transparent; color: rgb(0, 0, 0); font-family: Sarabun, sans-serif; font-size: 11pt; white-space: pre-wrap;\">สามารถวิเคราะห์กลุ่มลูกค้าเป้าหมายได้ว่า</span>\n",
                "\n",
                "- <span style=\"font-size: 11pt; font-family: Sarabun, sans-serif; color: rgb(0, 0, 0); background-color: transparent; font-variant-numeric: normal; font-variant-east-asian: normal; vertical-align: baseline; white-space: pre-wrap;\">ลูกค้าใน<b>ช่วงอายุ 61-70 ปี</b> หรือก็คือลูกค้าในกลุ่มหลังเกษียณหรือกลุ่มสูงอายุ มีจำนวนมากถึง <b>20.70% </b>ของลูกค้าทั้งหมด</span>\n",
                "- <span style=\"font-size: 11pt; font-family: Sarabun, sans-serif; color: rgb(0, 0, 0); background-color: transparent; font-variant-numeric: normal; font-variant-east-asian: normal; vertical-align: baseline; white-space: pre-wrap;\">ลูกค้าใน<b>ช่วงอายุ&nbsp;</b></span> <span style=\"background-color: transparent; color: rgb(0, 0, 0); font-family: Sarabun, sans-serif; font-size: 11pt; white-space: pre-wrap;\"><b>31-40 ปี</b> หรือก็คือลูกค้าในกลุ่มผู้ใหญ่ตอนต้น </span> <span style=\"color: rgb(0, 0, 0); font-family: Sarabun, sans-serif; font-size: 14.6667px; white-space: pre-wrap;\">มีจำนวนมากถึง<b> 20.40%</b> </span> <span style=\"color: rgb(0, 0, 0); font-family: Sarabun, sans-serif; font-size: 14.6667px; white-space: pre-wrap;\">ของลูกค้าทั้งหมด</span>\n",
                "- <span style=\"color: rgb(0, 0, 0); font-family: Sarabun, sans-serif; font-size: 14.6667px; white-space: pre-wrap;\">ลูกค้าใน</span><span style=\"background-color: transparent; color: rgb(0, 0, 0); font-family: Sarabun, sans-serif; font-size: 11pt; white-space: pre-wrap;\"><b>ช่วงอายุ 51-60 ปี</b> หรือก็คือลูกค้าในกลุ่มผู้ใหญ่ตอนปลาย&nbsp; มีจำนวนมากถึง <b>18.40% </b>ของลูกค้าทั้งหมด</span>\n",
                "\n",
                "<span style=\"background-color: transparent; color: rgb(0, 0, 0); font-family: Sarabun, sans-serif; font-size: 11pt; white-space: pre-wrap;\">ดังนั้นจากข้อมูลที่วิเคราะห์มาข้างต้น สามารถสรุปได้ว่ากลุ่มลูกค้าของ Hello Pharmacy คือกลุ่มผู้ใหญ่ตอนต้นจนถึงกลุ่มผู้สูงอายุ เนื่องจากตั้งแต่วัยผู้ใหญ่ตอนต้นขึ้นไป เป็นวัยที่เริ่มเข้าสู่ช่วงของการดูแลตัวเองและรักษาสุขภาพมากขึ้น ทั้งในทางบำรุงร่างกาย เสริมความงาม หรือเพื่อผลเฉพาะทางในด้านโรคต่างๆ อีกทั้งเป็นวัยที่ปัจจัยด้านราคาไม่ค่อยมีผลต่อการเลือกซื้อสินค้า และถ้าเป็นเรื่องที่เกี่ยวกับสุขภาพ คนส่วนใหญ่มักจะใช้จ่ายไม่ว่าจะราคาเท่าไหร่ก็ตาม&nbsp;</span> \n",
                "\n",
                "<span style=\"font-size: 11pt; font-family: Sarabun, sans-serif; color: rgb(0, 0, 0); background-color: transparent; font-variant-numeric: normal; font-variant-east-asian: normal; vertical-align: baseline; white-space: pre-wrap;\">จากข้อมูลข้างต้น <b style=\"\">สามารถนำมาพัฒนาแผนการตลาดของ Hello Pharmacy</b> ได้ เช่น การทำการตลาดกับกลุ่มผู้ใหญ่ตอนต้นและตอนปลาย ด้วยการโฆษณาผ่าน social media โดยเฉพาะ Facebook ควบคู่ไปกับ การโฆษณาผ่านหน้าร้าน ใช้ทั้งช่องทาง online และ offline จัดทำโปรโมชั่น ให้เหมาะกับกลุ่มลูกค้าเหล่านี้เช่น สินค้าประเภทวิตามินและอาหารเสริม อุปกรณ์ซัพพอร์ต หรือผลิตภัณฑ์ดูแลผิวและความงามเป็นต้น</span>"
            ],
            "metadata": {
                "azdata_cell_guid": "2d60a54b-ee51-4f71-9eb5-d4a526bc8260"
            },
            "attachments": {}
        },
        {
            "cell_type": "markdown",
            "source": [
                "# ข้อ 2 : วิเคราะห์สินค้าที่ขายดี/ไม่ดี อย่างละ 3 อันดับ เพื่อนำมาจัดการสินค้าคงคลัง\n",
                "\n",
                "## 2.1 สินค้าขายดี"
            ],
            "metadata": {
                "azdata_cell_guid": "b949fdf1-a42f-4ca8-b219-7e82c7d6df38"
            },
            "attachments": {}
        },
        {
            "cell_type": "code",
            "source": [
                "with a as (\r\n",
                "    select productid, name from product\r\n",
                "),\r\n",
                "\r\n",
                "b as (\r\n",
                "    SELECT productid, sum(qty) qty from orderdtl\r\n",
                "    GROUP BY productid\r\n",
                ")\r\n",
                "\r\n",
                "    SELECT a.productid, a.name, b.qty \r\n",
                "    from a inner join b on a.productid=b.productid\r\n",
                "    ORDER BY qty  desc limit 3"
            ],
            "metadata": {
                "azdata_cell_guid": "19390978-60fa-456a-9453-98b659725149"
            },
            "outputs": [],
            "execution_count": null
        },
        {
            "cell_type": "markdown",
            "source": [
                "## 2.2 สินค้าขายไม่ดี"
            ],
            "metadata": {
                "azdata_cell_guid": "b8b3b546-a0b7-46d0-9e88-97f154224d4b"
            },
            "attachments": {}
        },
        {
            "cell_type": "code",
            "source": [
                "with a as (\r\n",
                "    select productid, name from product\r\n",
                "),\r\n",
                "\r\n",
                "b as (\r\n",
                "    SELECT productid, sum(qty) qty from orderdtl\r\n",
                "    GROUP BY productid\r\n",
                ")\r\n",
                "\r\n",
                "    SELECT a.productid, a.name, b.qty \r\n",
                "    from a inner join b on a.productid=b.productid\r\n",
                "    where b.qty <5\r\n",
                "    ORDER BY qty  "
            ],
            "metadata": {
                "azdata_cell_guid": "cad22bfd-d7a7-4f19-b74b-1b9462d49658"
            },
            "outputs": [],
            "execution_count": null
        },
        {
            "cell_type": "markdown",
            "source": [
                "## สรุปผลข้อมูลข้อ2\n",
                "\n",
                "<span style=\"font-size: 11pt; font-family: Sarabun, sans-serif; color: rgb(0, 0, 0); background-color: transparent; font-variant-numeric: normal; font-variant-east-asian: normal; vertical-align: baseline; white-space: pre-wrap;\" id=\"docs-internal-guid-8d35189d-7fff-9ce8-0414-2589fe0f0bda\">จากตารางที่ 2.1 และ 2.2 ที่สร้างมาจากตาราง orderdtl และตาราง product โดยคอลัมน์ “productid” คือรหัสสินค้า คอลัมน์ “name” คือชื่อสินค้า และคอลัมน์ “qty” คือปริมาณการสั่งซื้อสินค้าแต่ละชนิดในปี 2020</span>\n",
                "\n",
                "<span style=\"font-size: 11pt; font-family: Sarabun, sans-serif; color: rgb(0, 0, 0); background-color: transparent; font-variant-numeric: normal; font-variant-east-asian: normal; vertical-align: baseline; white-space: pre-wrap;\">จากผลลัพธ์ของตารางข้างต้น ทำให้ทราบถึงจำนวนสินค้าที่ขายได้มากที่สุดและน้อยที่สุด 3 อันดับแรกในปี 2020 ทำให้ Hello Pharmacy <b style=\"\">สามารถนำมาวิเคราะห์ถึงการจัดการสินค้าคงคลังได้ </b>โดยดูว่าสินค้าชนิดไหนที่ขายดี ขายได้ปริมาณที่มาก ทางร้านอาจสั่งสินค้ากับทาง supplier มากขึ้น หรือถ้าหากสินค้าไหนที่ขายได้ในปริมาณที่น้อยอาจจะลดปริมาณในการสั่งลง การจัดการสินค้าคงคลังจะทำให้ธุรกิจมีสภาพคล่องมากขึ้น&nbsp; ง่ายต่อคาดคะเนเลือกพื้นที่เก็บสินค้าได้อย่างมีประสิทธิภาพมากขึ้น และสามารถตอบสนองความต้องการของลูกค้าได้ทันท่วงที นอกจากนั้นยังสามารถทำให้ธุรกิจได้ส่วนลดเพิ่มขึ้น จากการที่ซื้อในปริมาณมากต่อครั้ง</span>"
            ],
            "metadata": {
                "azdata_cell_guid": "0d6e8b72-0d9e-4a29-8139-119a899a816e"
            },
            "attachments": {}
        },
        {
            "cell_type": "markdown",
            "source": [
                "# ข้อ 3 : ความนิยมในการสั่งซื้อสินค้าผ่านช่องทาง online ในแต่ละจังหวัด"
            ],
            "metadata": {
                "azdata_cell_guid": "73b0ed4e-ef59-4d7d-8c45-e9923b5f7e04"
            }
        },
        {
            "cell_type": "code",
            "source": [
                "with cte as (\r\n",
                "    select *, b.province “province”\r\n",
                "    from orderhdr a inner join customer b using(cid)\r\n",
                "),\r\n",
                "cte1 as (\r\n",
                "    select province, count(*) cnt\r\n",
                "    from cte\r\n",
                "    where channelid = 'ONLINE'\r\n",
                "    group by province\r\n",
                "    order by cnt desc\r\n",
                "),\r\n",
                "    cte2 as (\r\n",
                "    Select row_number() over(order by cnt desc) \"rank\", * \r\n",
                "    from cte1\r\n",
                ")\r\n",
                "select * from cte2 limit 5"
            ],
            "metadata": {
                "azdata_cell_guid": "b8ae7c87-0721-4184-85a0-19586b22e0a6"
            },
            "outputs": [],
            "execution_count": null
        },
        {
            "cell_type": "markdown",
            "source": [
                "## สรุปผลข้อมูลข้อ3\n",
                "\n",
                "<span style=\"font-size: 11pt; font-family: Sarabun, sans-serif; color: rgb(0, 0, 0); background-color: transparent; font-variant-numeric: normal; font-variant-east-asian: normal; vertical-align: baseline; white-space: pre-wrap;\">ตารางที่ 3 สร้างมาจากตาราง orderhdr โดยคอลัมน์ “rank” คืออันดับของจังหวัดที่มีการสั่งซื้อสินค้าออนไลน์จากมากไปน้อย คอลัมน์ “province” คือจังหวัดต่างๆ ในประเทศไทย และคอลัมน์ “cnt” คือจำนวนคำสั่งซื้อสินค้าออนไลน์ในปี 2020</span>\n",
                "\n",
                "<span style=\"font-size: 11pt; font-family: Sarabun, sans-serif; color: rgb(0, 0, 0); background-color: transparent; font-variant-numeric: normal; font-variant-east-asian: normal; vertical-align: baseline; white-space: pre-wrap;\">จากตารางที่ 3 ทำให้ทราบถึง จังหวัดในประเทศไทยที่มีลูกค้าทำการสั่งซื้อสินค้าออนไลน์มากสุดเป็น 5 อันดับแรก จึงสามารถวิเคราะห์ถึงการพิจารณาเปิดสาขาหรือจุดกระจายสินค้าเพิ่ม ซึ่ง<i style=\"\"><u style=\"\">จังหวัดที่มีการสั่งซื้อสินค้าออนไลน์มากที่สุดคือ กรุงเทพมหานคร</u></i> โดยมียอดคำสั่งซื้อรวมทั้งหมด 348 คำสั่งซื้อ และร้าน Hello Pharmacy มีสาขาอยู่ในกรุงเทพมหานครเพียง 3 สาขา ด้วยข้อมูลที่กล่าวมานี้จึงทำให้<b style=\"\">ทางร้านควรตัดสินใจพิจารณาในการเปิดสาขาเพิ่มเติมที่กรุงเทพมหานคร</b> เพื่อเป็นการตอบสนองความต้องการในการซื้อสินค้าของลูกค้าและเป็นการเพิ่มความสะดวกในการเลือกซื้อสินค้าหน้าร้านให้แก่ลูกค้าในกรุงเทพมหานครอีกด้วย</span>\n",
                "\n",
                "<span style=\"font-size: 11pt; font-family: Sarabun, sans-serif; color: rgb(0, 0, 0); background-color: transparent; font-variant-numeric: normal; font-variant-east-asian: normal; vertical-align: baseline; white-space: pre-wrap;\">นอกจากนี้<u><i>จังหวัดที่มีการสั่งซื้อสินค้าออนไลน์รองลงมาคือ จังหวัดชุมพร และเชียงใหม่</i></u> โดยมียอดคำสั่งซื้อรวมทั้งหมด 155 และ 131 คำสั่งซื้อตามลำดับ แต่เนื่องจากจังหวัดชุมพรนั้นอยู่ในภาคใต้ และภาคใต้มีร้าน Hello Pharmacy อยู่แล้ว 5 สาขา กับทางจังหวัดเชียงใหม่ที่มีสาขาของร้าน Hello Pharmacy อยู่แล้วเช่นกัน <b style=\"\">จึงทำให้ควรไปพิจารณาที่จังหวัดที่มีการสั่งซื้อสินค้าออนไลน์รองลงมาเป็นลำดับที่ 4 คือจังหวัดบุรีรัมย์ </b>มียอดคำสั่งซื้อรวมทั้งหมด 108 คำสั่งซื้อ เนื่องจากมีร้าน Hello Pharmarcy อยู่เพียง 2 สาขาที่อยู่ในภาคกลางและไม่ได้อยู่ในกรุงเทพมหานคร การเปิดสาขาที่จังหวัดบุรีรัมย์เพิ่มเติมจึงมีความน่าสนใจ แต่ทั้งนี้ควรพิจารณายอดขายของปีอื่นๆ ประกอบเพิ่มเติมด้วย</span>"
            ],
            "metadata": {
                "azdata_cell_guid": "2d5afed4-d8a3-4abb-affc-33f191ed05e2"
            },
            "attachments": {}
        },
        {
            "cell_type": "markdown",
            "source": [
                "# ข้อ 4 : ประเภทสินค้าที่ขายได้ในแต่ละไตรมาส"
            ],
            "metadata": {
                "azdata_cell_guid": "536d099a-c780-47d7-b15a-59fb608406df"
            }
        },
        {
            "cell_type": "code",
            "source": [
                "with a as(\r\n",
                "    SELECT  * FROM orderdtl \r\n",
                "),\r\n",
                "b as(\r\n",
                "    SELECT orderid, date FROM orderhdr\r\n",
                "),\r\n",
                "c as(\r\n",
                "    SELECT date_part('quarter', date)::int , * \r\n",
                "    FROM a join b using(orderid)\r\n",
                "),\r\n",
                "d as(\r\n",
                "    SELECT productid, descrth FROM product\r\n",
                "),\r\n",
                "e as(\r\n",
                "    SELECT date_part, descrth, sum(qty) \r\n",
                "    FROM c join d USING(productid) \r\n",
                "    GROUP BY date_part,descrth \r\n",
                "    ORDER BY date_part, sum(qty) desc \r\n",
                "),\r\n",
                "t as(   \r\n",
                "    SELECT \r\n",
                "        rank() over (PARTITION by date_part ORDER BY sum DESC) rank, *\r\n",
                "        FROM e)\r\n",
                "\r\n",
                "SELECT rank \"Rank\", date_part \"Quarter\", descrth \"Type\", sum \"Quantity\" FROM t where rank <=3\r\n",
                ""
            ],
            "metadata": {
                "azdata_cell_guid": "284f5de4-646d-4326-888d-5a5297c8abff"
            },
            "outputs": [],
            "execution_count": null
        },
        {
            "cell_type": "markdown",
            "source": [
                "## สรุปผลข้อมูลข้อ4\n",
                "\n",
                "<span style=\"background-color: transparent; color: rgb(0, 0, 0); font-family: Sarabun, sans-serif; font-size: 11pt; white-space: pre-wrap;\">ตารางที่ 4 สร้างมากจากตาราง orderhdr, ตาราง orderdtl และตาราง product โดยคอลัมน์ “Rank” คืออันดับสินค้าขายดีจากมากไปน้อยของแต่ละไตรมาส คอลัมน์ “Quarter” คือไตรมาสที่เกิดคำสั่งซื้อสินค้า คอลัมน์ “Type” คือประเภทของสินค้า และคอลัมน์ “Quantity” คือปริมาณสินค้าที่ขายได้แยกตามเดือน</span>\n",
                "\n",
                "<span style=\"font-size: 11pt; font-family: Sarabun, sans-serif; color: rgb(0, 0, 0); background-color: transparent; font-variant-numeric: normal; font-variant-east-asian: normal; vertical-align: baseline; white-space: pre-wrap;\">จากตารางที่ 4 ทำให้ทราบได้ว่า ประเภทสินค้าที่ขายดีเป็นอันดับแรกและอันดับสองในทุกไตรมาส คือ <u><i>ประเภทผลิตภัณฑ์ดูแลผิว/ความงาม และประเภทคุณแม่และเด็ก</i></u> ตามลำดับ จึงสามารถคาดเดาได้ว่าสินค้าทั้ง 2 ประเภทนี้เป็นที่นิยมของคนไทยมาก จากข้อมูลข้างต้น ทางร้าน Hello Pharmacy <b>อาจเพิ่มการสั่งซื้อและผลักดันการขายสินค้าทั้ง 2 ประเภทนี้ </b>เพื่อให้สามารถเพิ่มยอดขายและรายได้ให้กับทางร้าน</span>"
            ],
            "metadata": {
                "azdata_cell_guid": "bcb8ce93-4af6-464f-9f2f-05fc1bbe886b"
            },
            "attachments": {}
        },
        {
            "cell_type": "markdown",
            "source": [
                "# ข้อ 5 : จำนวนคำสั่งซื้อแต่ละสาขา"
            ],
            "metadata": {
                "azdata_cell_guid": "f085f9ad-61bd-40bb-88cf-93b30cad6e51"
            }
        },
        {
            "cell_type": "code",
            "source": [
                "select branch.branchid \"Branch ID\", branch.descr as \"Branch\" , count(orderhdr.orderid) as \"No_Order\"\r\n",
                "    from orderhdr inner join branch \r\n",
                "    on orderhdr.branchid = branch.branchid\r\n",
                "    GROUP BY \"Branch ID\" , \"Branch\"\r\n",
                "    ORDER BY \"No_Order\" desc"
            ],
            "metadata": {
                "azdata_cell_guid": "3f59eb19-a4d2-488d-9a47-ceba2e2889df"
            },
            "outputs": [],
            "execution_count": null
        },
        {
            "cell_type": "markdown",
            "source": [
                "## สรุปผลข้อมูลข้อ5\n",
                "\n",
                "<span style=\"font-size: 11pt; font-family: Sarabun, sans-serif; color: rgb(0, 0, 0); background-color: transparent; font-variant-numeric: normal; font-variant-east-asian: normal; vertical-align: baseline; white-space: pre-wrap;\">จากตารางที่ 5 ซึ่งสร้างมาจากตาราง branch และตาราง orderhdr โดยคอลัมน์ “Branch ID” คือ ID ของแต่ละสาขาของร้านเรา คอลัมน์ “branch” คือ ชื่อของแต่ละสาขา หรือก็คือแหล่งที่ตั้งของแต่ละสาขา และคอลัมน์“no_order” คือจำนวนคำสั่งซื้อที่เกิดขึ้นในแต่ละสาขา</span>\n",
                "\n",
                "<span style=\"font-size: 11pt; font-family: Sarabun, sans-serif; color: rgb(0, 0, 0); background-color: transparent; font-variant-numeric: normal; font-variant-east-asian: normal; vertical-align: baseline; white-space: pre-wrap;\">โดยจากคำสั่งที่ใช้สืบค้นสำหรับแสดงผลการเรียงลำดับสาขาที่มีจำนวนคำสั่งซื้อที่มากที่สุดไปยังสาขาที่มีคำสั่งซื้อน้อยสุด สามารถวิเคราะห์ได้ว่า <i>สาขา ท็อปส์ พลาซ่า พะเยา เป็นสาขาที่มีจำการซื้อมากที่สุดจากทั้งหมด 20 สาขาของเรา และสาขาโลตัสระยองเป็นสาขาที่มีจำนวนการซื้อน้อยที่สุด</i></span>\n",
                "\n",
                "<span style=\"font-size: 11pt; font-family: Sarabun, sans-serif; color: rgb(0, 0, 0); background-color: transparent; font-variant-numeric: normal; font-variant-east-asian: normal; vertical-align: baseline; white-space: pre-wrap;\">จากข้อมูลข้างต้นสามารถ ทำให้ทาง<b>ฝ่ายจัดการร้านค้านำมาวางแผนเรื่องของจำนวนสินค้า</b>ได้เพื่อให้สามารถตอบสนองความต้องการของลูกค้าได้พอดี</span>"
            ],
            "metadata": {
                "azdata_cell_guid": "c76b22de-616b-4098-b47d-5afdd615ff04"
            },
            "attachments": {}
        },
        {
            "cell_type": "markdown",
            "source": [
                "# ข้อ 6 : ช่องทางการชำระเงิน"
            ],
            "metadata": {
                "azdata_cell_guid": "5af31358-9b93-4c2f-b794-c28182175f98"
            }
        },
        {
            "cell_type": "code",
            "source": [
                "select payment.descr as \"Payment\" , count(orderhdr.orderid) as \"qty\"\r\n",
                "    from payment inner join orderhdr \r\n",
                "    on orderhdr.paymentid = payment.paymentid\r\n",
                "    GROUP BY  \"Payment\"\r\n",
                "    ORDER BY \"qty\" desc"
            ],
            "metadata": {
                "azdata_cell_guid": "fa5d0ac2-d115-4eff-8ec0-067bb7c7d20b"
            },
            "outputs": [],
            "execution_count": null
        },
        {
            "cell_type": "markdown",
            "source": [
                "## สรุปผลข้อมูลข้อ6\n",
                "\n",
                "<span style=\"font-size: 11pt; font-family: Sarabun, sans-serif; color: rgb(0, 0, 0); background-color: transparent; font-variant-numeric: normal; font-variant-east-asian: normal; vertical-align: baseline; white-space: pre-wrap;\">จากตารางที่ 6 คอลัมน์ “Payment” คือ ช่องทาง การชำระเงินที่ลูกค้าใช้ และคอลัมน์ “Qty” คือจำนวนครั้งที่ลูกค้าใช้ช่องทางการชำระเงิน ซึ่งการชำระเงินของทางร้านที่มีบริการให้ลูกค้ามีอยู่ด้วยกัน 4 ช่องทาง ได้แก่ ชำระผ่านบัตรเครดิต Visa Card, บัตรเครดิต Master Card, ชำระผ่านการโอนเงิน (บริการ Promptpay) และชำระด้วยเงินสด&nbsp;</span> \n",
                "\n",
                "<span style=\"font-size: 11pt; font-family: Sarabun, sans-serif; color: rgb(0, 0, 0); background-color: transparent; font-variant-numeric: normal; font-variant-east-asian: normal; vertical-align: baseline; white-space: pre-wrap;\">จากข้อมูลข้างต้นพบว่าการชำระเงินผ่านบัตรเครดิต <i>Visa Card มีจำนวนการใช้มากที่สุด</i> ทางร้านสามารถนำข้อมูลจำนวนการชำระเงินนี้<b>มาจัดทำโปรโมชั่นต่างๆ ร่วมกับ Visa Card ได้</b> เพื่อเป็นการดึงดูดลูกค้าอีกช่องทางหนึ่ง</span>"
            ],
            "metadata": {
                "azdata_cell_guid": "bb2b42b5-60cf-4649-948d-14cc211e72ec"
            },
            "attachments": {}
        },
        {
            "cell_type": "markdown",
            "source": [
                "# ข้อ 7 : ลูกค้าที่เป็นผู้สนับสนุนหลักของร้าน"
            ],
            "metadata": {
                "azdata_cell_guid": "cf4877d7-9b44-4437-a36b-b156fd65b749"
            }
        },
        {
            "cell_type": "code",
            "source": [
                "WITH a as(\r\n",
                "    SELECT cid,SUM(total) \r\n",
                "    FROM orderhdr\r\n",
                "    GROUP BY cid\r\n",
                "),\r\n",
                "b as (\r\n",
                "    SELECT cid,cfname,clname \r\n",
                "        FROM customer\r\n",
                ")\r\n",
                "SELECT cid \"CustomerID\",cfname \"Fname\",clname \"Lname\", to_char(sum, '9G999G999') \"Total\" FROM a join b \r\n",
                "USING(cid)\r\n",
                "ORDER BY SUM desc LIMIT 200"
            ],
            "metadata": {
                "azdata_cell_guid": "ac666ffd-084c-4046-9ea2-83b6ac7ac594"
            },
            "outputs": [],
            "execution_count": null
        },
        {
            "cell_type": "markdown",
            "source": [
                "## สรุปผลข้อมูลข้อ7\n",
                "\n",
                "<span style=\"font-size: 11pt; font-family: Sarabun, sans-serif; color: rgb(0, 0, 0); background-color: transparent; font-variant-numeric: normal; font-variant-east-asian: normal; vertical-align: baseline; white-space: pre-wrap;\">ตารางที่ 7 สร้างมาจากตาราง orderhdr และตาราง customer โดยตารางกล่าวถึงอันดับลูกค้าสมาชิกที่เป็นผู้สนับสนุนหลักของร้าน คอลัมน์ “CustomerID” คือรหัสลูกค้า คอลัมน์ “Fname” คือชื่อต้นของลูกค้า คอลัมน์ “Lname” คือนามสกุลของลูกค้า และคอลัมน์ “Total” คือยอดซื้อของลูกค้าทั้งหมด</span>\n",
                "\n",
                "<span style=\"font-size: 11pt; font-family: Sarabun, sans-serif; color: rgb(0, 0, 0); background-color: transparent; font-variant-numeric: normal; font-variant-east-asian: normal; vertical-align: baseline; white-space: pre-wrap;\">จากตารางที่ 7 นั้นเป็นการสร้างเพื่อหายอดใช้จ่ายของลูกค้าว่าลูกค้าคนใดที่เป็นสมาชิกกับทางร้านแล้ว มียอดใช้จ่ายสูงสุด 200 อันดับในปีนั้น จากสมาชิก 1,000 คน<b>จะได้รับ Gift Voucher เป็นของตอบแทน โดยใช้อิงหลักทฤษฎี 20:80</b> และเมื่อได้ทำการสืบค้นจากฐานข้อมูลก็พบว่า <i>ลูกค้าที่เป็นสมาชิกและมียอดค่าใช้จ่ายสูงสุดมีค่ามากถึง 19,557 บาท</i> จุดประสงค์ของการจัดทำตารางนี้ก็เพื่อเป็นการสร้าง <b>Brand Loyalty</b> แก่ลูกค้าที่เป็นสมาชิกกับทางร้าน ให้รู้สึกว่าทางร้านนั้นใส่ใจกับลูกค้าและกลับมาอุดหนุนสินค้าของร้านค้าอีก</span>"
            ],
            "metadata": {
                "azdata_cell_guid": "11c783f6-b4b0-4c96-95f2-d4d8b60dcf81"
            },
            "attachments": {}
        },
        {
            "cell_type": "markdown",
            "source": [
                "# ข้อ 8 : ยอดขายจากการซื้อหน้าร้านและช่องทาง online"
            ],
            "metadata": {
                "azdata_cell_guid": "24148141-5864-47a3-9195-3f937b155286"
            }
        },
        {
            "cell_type": "code",
            "source": [
                "WITH a as(\r\n",
                "SELECT date_part('month', date) ::INT \"month\",  sum(Total) \"sqty\"\r\n",
                "    FROM orderhdr\r\n",
                "    WHERE channelid = 'SHOP'\r\n",
                "    GROUP BY channelid, MONTH\r\n",
                "    ORDER BY MONTH\r\n",
                "),\r\n",
                "b as(\r\n",
                "SELECT date_part('month', date) ::INT \"month\", sum(Total) \"oqty\"\r\n",
                "    FROM orderhdr\r\n",
                "    WHERE channelid = 'ONLINE'\r\n",
                "    GROUP BY channelid, MONTH\r\n",
                "    ORDER BY MONTH\r\n",
                "),\r\n",
                " c as (\r\n",
                "    SELECT a.month\"month\",a.sqty\"shop\",b.oqty\"online\" from a JOIN b using(month)\r\n",
                "\r\n",
                ")\r\n",
                "\r\n",
                "SELECT month, to_char(shop, '9G999G999') \"Shop\", to_char(Online, '9G999G999' ) \"online\" from c \r\n",
                "UNION\r\n",
                "select null,to_char(sum(shop), '9G999G999'),to_char(sum(Online), '9G999G999') from c\r\n",
                "ORDER BY month\r\n",
                ""
            ],
            "metadata": {
                "azdata_cell_guid": "2132b61a-89b4-4ba5-bbbe-7289456548c4",
                "tags": []
            },
            "outputs": [],
            "execution_count": null
        },
        {
            "cell_type": "markdown",
            "source": [
                "## สรุปผลข้อมูลข้อ8\n",
                "\n",
                "<span style=\"background-color: transparent; color: rgb(0, 0, 0); font-family: Sarabun, sans-serif; font-size: 11pt; white-space: pre-wrap;\">จากตารางที่&nbsp; 8&nbsp; ซึ่งสร้างมาจากตาราง orderhdr โดยตารางกล่าวถึงยอดขายจากการซื้อหน้าร้านและช่องทาง online คอลัมน์ “month” คือลำดับเดือน คอลัมน์ “Shop” คือรายได้รวมจากหน้าร้าน และคอลัมน์“lname” คือรายได้รวมจากช่องทาง online&nbsp;</span> \n",
                "\n",
                "<span style=\"font-size: 11pt; font-family: Sarabun, sans-serif; color: rgb(0, 0, 0); background-color: transparent; font-variant-numeric: normal; font-variant-east-asian: normal; vertical-align: baseline; white-space: pre-wrap;\"><span style=\"background-color: transparent; font-size: 11pt;\">ตารางที่ 8 นั้นเป็นการสร้างเพื่อหายอดขายจากการซื้อหน้าร้านและช่องทาง online และเมื่อได้ทำการสืบค้นจากฐานข้อมูลก็พบว่า <i>ยอดขายจากการซื้อหน้าร้านนั้นมากกว่าช่องทาง online</i> ทำให้ทางร้าน Hello Pharmacy สามารถ<b>กำหนดงบ</b>ในการดูแลในแต่ละช่องทางและ<b>สังเกตุพฤติกรรมในการซื้อสินค้าของลูกค้า</b> เพื่อพัฒนาสินค้าและบริการให้ตรงกับความต้องการลูกค้ามากที่สุด</span>&nbsp;</span>"
            ],
            "metadata": {
                "azdata_cell_guid": "666c3a59-7551-4e99-9e29-48f34a19b49f"
            },
            "attachments": {}
        },
        {
            "cell_type": "markdown",
            "source": [
                "# ข้อ 9 : ยอดขายสินค้าแต่ละประเภท"
            ],
            "metadata": {
                "azdata_cell_guid": "5870ebda-249e-41c1-a0ed-c2e0d7133c7c"
            }
        },
        {
            "cell_type": "code",
            "source": [
                "with a as (\r\n",
                "    select productid,sum(qty) qty from orderdtl\r\n",
                "    GROUP BY productid\r\n",
                "),\r\n",
                "\r\n",
                "b as (\r\n",
                "    select productid, typeid from product\r\n",
                "),\r\n",
                "\r\n",
                "c as (\r\n",
                "    SELECT typid, descrth from type\r\n",
                ")\r\n",
                "\r\n",
                "SELECT c.typid, c.descrth, sum(a.qty) \"quantity\"\r\n",
                "    from a inner join b on a.productid=b.productid inner join c on b.typeid=c.typid \r\n",
                "    GROUP BY typid,c.descrth\r\n",
                "    ORDER BY quantity DESC \r\n",
                "    "
            ],
            "metadata": {
                "azdata_cell_guid": "80dee5c2-9dc0-4a3c-b34a-e95a53f34154",
                "tags": []
            },
            "outputs": [
                {
                    "output_type": "display_data",
                    "data": {
                        "text/html": "(57 row(s) affected)"
                    },
                    "metadata": {}
                },
                {
                    "output_type": "display_data",
                    "data": {
                        "text/html": "Total execution time: 00:00:00.012"
                    },
                    "metadata": {}
                },
                {
                    "output_type": "execute_result",
                    "metadata": {},
                    "execution_count": 4,
                    "data": {
                        "application/vnd.dataresource+json": {
                            "schema": {
                                "fields": [
                                    {
                                        "name": "typid"
                                    },
                                    {
                                        "name": "descrth"
                                    },
                                    {
                                        "name": "quantity"
                                    }
                                ]
                            },
                            "data": [
                                {
                                    "0": "beauty",
                                    "1": "ผลิตภัณฑ์ดูแลผิว/ความงาม",
                                    "2": "1878"
                                },
                                {
                                    "0": "mnc",
                                    "1": "คุณแม่และเด็ก",
                                    "2": "1624"
                                },
                                {
                                    "0": "house",
                                    "1": "ยาสามัญประจำบ้าน",
                                    "2": "1262"
                                },
                                {
                                    "0": "alcohol",
                                    "1": "ผลิตภัณฑ์ฆ่าเชื้อ แอลกอฮอลล์",
                                    "2": "1245"
                                },
                                {
                                    "0": "excre",
                                    "1": "การขับถ่าย",
                                    "2": "978"
                                },
                                {
                                    "0": "adult",
                                    "1": "ผลิตภัณฑ์สำหรับผู้ใหญ่",
                                    "2": "706"
                                },
                                {
                                    "0": "faidkit",
                                    "1": "อุปกรณ์ปฐมพยาบาลและพลาสเตอร์ยา",
                                    "2": "698"
                                },
                                {
                                    "0": "pain",
                                    "1": "ผลิตภัณฑ์แก้ปวดเมื่อย",
                                    "2": "670"
                                },
                                {
                                    "0": "bnj",
                                    "1": "บำรุงกระดูกและข้อ",
                                    "2": "628"
                                },
                                {
                                    "0": "sunblock",
                                    "1": "ครีมกันแดด/ลดฝ้า",
                                    "2": "624"
                                },
                                {
                                    "0": "hproduct",
                                    "1": "สินค้าเพื่อสุขภาพ",
                                    "2": "593"
                                },
                                {
                                    "0": "workage",
                                    "1": "ผู้ใหญ่และวัยทำงาน",
                                    "2": "570"
                                },
                                {
                                    "0": "vitamin",
                                    "1": "วิตามินและอาหารเสริม",
                                    "2": "480"
                                },
                                {
                                    "0": "oralcare",
                                    "1": "ผลิตภัณฑ์ดูแลช่องปาก",
                                    "2": "463"
                                },
                                {
                                    "0": "thermo",
                                    "1": "ที่วัดไข้/วัดออกซิเจน",
                                    "2": "428"
                                },
                                {
                                    "0": "tear",
                                    "1": "น้ำตาเทียม น้ำยาล้างตา",
                                    "2": "402"
                                },
                                {
                                    "0": "skincare",
                                    "1": "บำรุงผิวพรรณ",
                                    "2": "337"
                                },
                                {
                                    "0": "mask",
                                    "1": "หน้ากากอนามัย",
                                    "2": "321"
                                },
                                {
                                    "0": "mulcer",
                                    "1": "ผลิตภัณฑ์แก้ร้อนใน",
                                    "2": "221"
                                },
                                {
                                    "0": "eye",
                                    "1": "บำรุงสายตา",
                                    "2": "187"
                                },
                                {
                                    "0": "vijelly",
                                    "1": "ขนมวิตามิน เยลลี่",
                                    "2": "183"
                                },
                                {
                                    "0": "vibrain",
                                    "1": "วิตามินเกี่ยวกับบำรุงสมอง",
                                    "2": "179"
                                },
                                {
                                    "0": "mwash",
                                    "1": "น้ำยาบ้วนปาก",
                                    "2": "154"
                                },
                                {
                                    "0": "fungi",
                                    "1": "ฆ่าเชื้อรา",
                                    "2": "151"
                                },
                                {
                                    "0": "sleep",
                                    "1": "ช่วยในการนอนหลับ",
                                    "2": "151"
                                },
                                {
                                    "0": "bcream",
                                    "1": "ครีมทาตัว",
                                    "2": "150"
                                },
                                {
                                    "0": "pregn",
                                    "1": "ชุดตรวจครรภ์/วันไข่ตก",
                                    "2": "149"
                                },
                                {
                                    "0": "condom",
                                    "1": "ถุงยางอนามัยและเจลหล่อลื่น",
                                    "2": "148"
                                },
                                {
                                    "0": "inhbalm",
                                    "1": "ยาดมและยาหม่อง",
                                    "2": "143"
                                },
                                {
                                    "0": "pastille",
                                    "1": "ลูกอม ชุ่มคอ",
                                    "2": "138"
                                },
                                {
                                    "0": "hair",
                                    "1": "ผลิตภัณฑ์ดูแลเส้นผม",
                                    "2": "136"
                                },
                                {
                                    "0": "fclean",
                                    "1": "ผลิตภัณฑ์ทำความสะอาดผิวหน้า",
                                    "2": "103"
                                },
                                {
                                    "0": "stnose",
                                    "1": "บรรเทาอาการคัดจมูก",
                                    "2": "97"
                                },
                                {
                                    "0": "intiarea",
                                    "1": "ผลิตภัณฑ์ดูแลจุดซ่อนเร้น",
                                    "2": "92"
                                },
                                {
                                    "0": "sksp",
                                    "1": "ดูแลผิวหนังและสเปิร์ม",
                                    "2": "90"
                                },
                                {
                                    "0": "medsupp",
                                    "1": "อาหารเสริมทางการแพทย์",
                                    "2": "84"
                                },
                                {
                                    "0": "support",
                                    "1": "อุปกรณ์ซัพพอร์ต",
                                    "2": "82"
                                },
                                {
                                    "0": "pcart",
                                    "1": "ตลับยา/ที่บดยา",
                                    "2": "79"
                                },
                                {
                                    "0": "bclean",
                                    "1": "ผลิตภัณฑ์ทำความสะอาดและดูแลผิวกาย",
                                    "2": "70"
                                },
                                {
                                    "0": "cfever",
                                    "1": "บรรเทาปวด ลดไข้ เด็ก",
                                    "2": "69"
                                },
                                {
                                    "0": "serum",
                                    "1": "เซรั่มและครีมบำรุง",
                                    "2": "68"
                                },
                                {
                                    "0": "hequip",
                                    "1": "อุปกรณ์ตรวจวัดสุขภาพ",
                                    "2": "67"
                                },
                                {
                                    "0": "tradmed",
                                    "1": "ยาแผนโบราณ",
                                    "2": "65"
                                },
                                {
                                    "0": "wart",
                                    "1": "ผลิดภัณฑ์รักษาหูด",
                                    "2": "59"
                                },
                                {
                                    "0": "diges",
                                    "1": "ท้องอืด ท้องเฟ้อ จุดเสียดแน่น อาหารไม่ย่อย",
                                    "2": "53"
                                },
                                {
                                    "0": "contact",
                                    "1": "น้ำยาล้างคอนแทคเลนส์",
                                    "2": "51"
                                },
                                {
                                    "0": "cough",
                                    "1": "แก้ไอละลายเสมหะ",
                                    "2": "49"
                                },
                                {
                                    "0": "presgar",
                                    "1": "เครื่องวัดความดัน/ระดับน้ำตาล",
                                    "2": "47"
                                },
                                {
                                    "0": "cardiac",
                                    "1": "ผลิตภัณฑ์บำรุงหัวใจ",
                                    "2": "44"
                                },
                                {
                                    "0": "glove",
                                    "1": "ถุงมือ",
                                    "2": "42"
                                },
                                {
                                    "0": "acne",
                                    "1": "ผลิตภัณฑ์ดูแลสิว ฝ้า กระ",
                                    "2": "42"
                                },
                                {
                                    "0": "mosqui",
                                    "1": "ผลิตภัณฑ์กันยุง",
                                    "2": "42"
                                },
                                {
                                    "0": "budd",
                                    "1": "ชุดสังฆทาน",
                                    "2": "39"
                                },
                                {
                                    "0": "nsaline",
                                    "1": "น้ำเกลือล้างจมูก",
                                    "2": "34"
                                },
                                {
                                    "0": "denture",
                                    "1": "ครีมติดฟันปลอม",
                                    "2": "19"
                                },
                                {
                                    "0": "toothpa",
                                    "1": "ยาสีฟัน",
                                    "2": "18"
                                },
                                {
                                    "0": "laxative",
                                    "1": "ช่วยระบาย/ถ่ายไม่ออก",
                                    "2": "15"
                                }
                            ]
                        },
                        "text/html": [
                            "<table>",
                            "<tr><th>typid</th><th>descrth</th><th>quantity</th></tr>",
                            "<tr><td>beauty</td><td>ผลิตภัณฑ์ดูแลผิว/ความงาม</td><td>1878</td></tr>",
                            "<tr><td>mnc</td><td>คุณแม่และเด็ก</td><td>1624</td></tr>",
                            "<tr><td>house</td><td>ยาสามัญประจำบ้าน</td><td>1262</td></tr>",
                            "<tr><td>alcohol</td><td>ผลิตภัณฑ์ฆ่าเชื้อ แอลกอฮอลล์</td><td>1245</td></tr>",
                            "<tr><td>excre</td><td>การขับถ่าย</td><td>978</td></tr>",
                            "<tr><td>adult</td><td>ผลิตภัณฑ์สำหรับผู้ใหญ่</td><td>706</td></tr>",
                            "<tr><td>faidkit</td><td>อุปกรณ์ปฐมพยาบาลและพลาสเตอร์ยา</td><td>698</td></tr>",
                            "<tr><td>pain</td><td>ผลิตภัณฑ์แก้ปวดเมื่อย</td><td>670</td></tr>",
                            "<tr><td>bnj</td><td>บำรุงกระดูกและข้อ</td><td>628</td></tr>",
                            "<tr><td>sunblock</td><td>ครีมกันแดด/ลดฝ้า</td><td>624</td></tr>",
                            "<tr><td>hproduct</td><td>สินค้าเพื่อสุขภาพ</td><td>593</td></tr>",
                            "<tr><td>workage</td><td>ผู้ใหญ่และวัยทำงาน</td><td>570</td></tr>",
                            "<tr><td>vitamin</td><td>วิตามินและอาหารเสริม</td><td>480</td></tr>",
                            "<tr><td>oralcare</td><td>ผลิตภัณฑ์ดูแลช่องปาก</td><td>463</td></tr>",
                            "<tr><td>thermo</td><td>ที่วัดไข้/วัดออกซิเจน</td><td>428</td></tr>",
                            "<tr><td>tear</td><td>น้ำตาเทียม น้ำยาล้างตา</td><td>402</td></tr>",
                            "<tr><td>skincare</td><td>บำรุงผิวพรรณ</td><td>337</td></tr>",
                            "<tr><td>mask</td><td>หน้ากากอนามัย</td><td>321</td></tr>",
                            "<tr><td>mulcer</td><td>ผลิตภัณฑ์แก้ร้อนใน</td><td>221</td></tr>",
                            "<tr><td>eye</td><td>บำรุงสายตา</td><td>187</td></tr>",
                            "<tr><td>vijelly</td><td>ขนมวิตามิน เยลลี่</td><td>183</td></tr>",
                            "<tr><td>vibrain</td><td>วิตามินเกี่ยวกับบำรุงสมอง</td><td>179</td></tr>",
                            "<tr><td>mwash</td><td>น้ำยาบ้วนปาก</td><td>154</td></tr>",
                            "<tr><td>fungi</td><td>ฆ่าเชื้อรา</td><td>151</td></tr>",
                            "<tr><td>sleep</td><td>ช่วยในการนอนหลับ</td><td>151</td></tr>",
                            "<tr><td>bcream</td><td>ครีมทาตัว</td><td>150</td></tr>",
                            "<tr><td>pregn</td><td>ชุดตรวจครรภ์/วันไข่ตก</td><td>149</td></tr>",
                            "<tr><td>condom</td><td>ถุงยางอนามัยและเจลหล่อลื่น</td><td>148</td></tr>",
                            "<tr><td>inhbalm</td><td>ยาดมและยาหม่อง</td><td>143</td></tr>",
                            "<tr><td>pastille</td><td>ลูกอม ชุ่มคอ</td><td>138</td></tr>",
                            "<tr><td>hair</td><td>ผลิตภัณฑ์ดูแลเส้นผม</td><td>136</td></tr>",
                            "<tr><td>fclean</td><td>ผลิตภัณฑ์ทำความสะอาดผิวหน้า</td><td>103</td></tr>",
                            "<tr><td>stnose</td><td>บรรเทาอาการคัดจมูก</td><td>97</td></tr>",
                            "<tr><td>intiarea</td><td>ผลิตภัณฑ์ดูแลจุดซ่อนเร้น</td><td>92</td></tr>",
                            "<tr><td>sksp</td><td>ดูแลผิวหนังและสเปิร์ม</td><td>90</td></tr>",
                            "<tr><td>medsupp</td><td>อาหารเสริมทางการแพทย์</td><td>84</td></tr>",
                            "<tr><td>support</td><td>อุปกรณ์ซัพพอร์ต</td><td>82</td></tr>",
                            "<tr><td>pcart</td><td>ตลับยา/ที่บดยา</td><td>79</td></tr>",
                            "<tr><td>bclean</td><td>ผลิตภัณฑ์ทำความสะอาดและดูแลผิวกาย</td><td>70</td></tr>",
                            "<tr><td>cfever</td><td>บรรเทาปวด ลดไข้ เด็ก</td><td>69</td></tr>",
                            "<tr><td>serum</td><td>เซรั่มและครีมบำรุง</td><td>68</td></tr>",
                            "<tr><td>hequip</td><td>อุปกรณ์ตรวจวัดสุขภาพ</td><td>67</td></tr>",
                            "<tr><td>tradmed</td><td>ยาแผนโบราณ</td><td>65</td></tr>",
                            "<tr><td>wart</td><td>ผลิดภัณฑ์รักษาหูด</td><td>59</td></tr>",
                            "<tr><td>diges</td><td>ท้องอืด ท้องเฟ้อ จุดเสียดแน่น อาหารไม่ย่อย</td><td>53</td></tr>",
                            "<tr><td>contact</td><td>น้ำยาล้างคอนแทคเลนส์</td><td>51</td></tr>",
                            "<tr><td>cough</td><td>แก้ไอละลายเสมหะ</td><td>49</td></tr>",
                            "<tr><td>presgar</td><td>เครื่องวัดความดัน/ระดับน้ำตาล</td><td>47</td></tr>",
                            "<tr><td>cardiac</td><td>ผลิตภัณฑ์บำรุงหัวใจ</td><td>44</td></tr>",
                            "<tr><td>glove</td><td>ถุงมือ</td><td>42</td></tr>",
                            "<tr><td>acne</td><td>ผลิตภัณฑ์ดูแลสิว ฝ้า กระ</td><td>42</td></tr>",
                            "<tr><td>mosqui</td><td>ผลิตภัณฑ์กันยุง</td><td>42</td></tr>",
                            "<tr><td>budd</td><td>ชุดสังฆทาน</td><td>39</td></tr>",
                            "<tr><td>nsaline</td><td>น้ำเกลือล้างจมูก</td><td>34</td></tr>",
                            "<tr><td>denture</td><td>ครีมติดฟันปลอม</td><td>19</td></tr>",
                            "<tr><td>toothpa</td><td>ยาสีฟัน</td><td>18</td></tr>",
                            "<tr><td>laxative</td><td>ช่วยระบาย/ถ่ายไม่ออก</td><td>15</td></tr>",
                            "</table>"
                        ]
                    }
                }
            ],
            "execution_count": 4
        },
        {
            "cell_type": "markdown",
            "source": [
                "## สรุปผลข้อมูลข้อ9\n",
                "\n",
                "<span style=\"font-size: 11pt; font-family: Sarabun, sans-serif; color: rgb(0, 0, 0); background-color: transparent; font-variant-numeric: normal; font-variant-east-asian: normal; vertical-align: baseline; white-space: pre-wrap;\">ตารางที่ 9 สร้างมาจากตาราง orderdtl, ตาราง type และตาราง product โดยตารางที่ 9 กล่าวถึงยอดขายสินค้าแต่ละประเภท คอลัมน์ “typeid” คือชนิดหรือประเภทของสินค้า&nbsp; คอลัมน์ “descrth” คือการอธิบายเพิ่มเติมเกี่ยวกับสินค้านั้น&nbsp; คอลัมน์ “qty” คือยอดรวมจำนวนการซื้อ&nbsp;</span> \n",
                "\n",
                "<span style=\"font-size: 11pt; font-family: Sarabun, sans-serif; color: rgb(0, 0, 0); background-color: transparent; font-variant-numeric: normal; font-variant-east-asian: normal; vertical-align: baseline; white-space: pre-wrap;\">จากตารางที่ 9 นั้นเป็นการสร้างเพื่อหาจำนวนยอดขายสินค้าแต่ละประเภท และเมื่อได้ทำการสืบค้นจากฐานข้อมูลพบว่า <i>ผลิตภัณฑ์ประเภทดูแลความงาม,คุณแม่และเด็ก และยาสามัญประจำบ้าน มีจำนวนการซื้อจำนวนมากที่สุดตามลำดับ</i> โดยจุดประสงค์ของการจัดทำตารางนี้ก็เพื่อเป็นการจัดคำสั่งซื้อ อัปเดตสต็อกและปรับปรุงสต็อกให้เพียงพอต่อความต้องการของลูกค้า ดังนั้นทาง</span> <span style=\"color: rgb(0, 0, 0); font-family: Sarabun, sans-serif; font-size: 14.6667px; white-space: pre-wrap;\">Hello Pharmacy อาจทำการวิเคราะห์ต่อว่า สินค้าที่ขายดี 3 อันดับนี้ในการสั่งสินค้าครั้งถัดไป<b>ควรสั่งในปริมาณที่เพิ่มขึ้นหรือไม่</b> เพื่อที่จะได้รองรับความต้องการของลูกค้าในปีถัดไป หรือถ้าหากสินค้าประเภทไหนที่ขายไม่ดีภายในปีนี้ <b>ควรจะเอาออกมาทำโปรโมชั่นก่อนที่ยาจะหมดอายุ</b>หรือไม่ เพื่อไม่ให้มีสินค้าตกค้างในคลัง</span>"
            ],
            "metadata": {
                "azdata_cell_guid": "379a77ce-7fa3-4687-adf2-67ead12b588d"
            },
            "attachments": {}
        },
        {
            "cell_type": "markdown",
            "source": [
                "# ข้อ 10 : การจัดโปรโมชั่น"
            ],
            "metadata": {
                "azdata_cell_guid": "26dbe7bb-fe23-4943-af40-f7d4679e6efc"
            }
        },
        {
            "cell_type": "code",
            "source": [
                "select productid, name , status, promotion from product\r\n",
                "    where status = 'out' and promotion = true"
            ],
            "metadata": {
                "azdata_cell_guid": "0ca5d7af-5d90-4cc6-9cd0-50732457b7b4"
            },
            "outputs": [],
            "execution_count": null
        },
        {
            "cell_type": "markdown",
            "source": [
                "## สรุปผลข้อมูลข้อ10\n",
                "\n",
                "<span style=\"font-size: 11pt; font-family: Sarabun, sans-serif; color: rgb(0, 0, 0); background-color: transparent; font-variant-numeric: normal; font-variant-east-asian: normal; vertical-align: baseline; white-space: pre-wrap;\">ตารางที่ 10 ที่สร้างมาจาก ตาราง product โดยคอลัมน์ “productid” คือรหัสสินค้า คอลัมน์ “name” คือชื่อสินค้า คอลัมน์ “status” คือสถานะของสินค้าในคลัง ถ้า status มีค่าเท่ากับ in แปลว่า สินค้ายังคงอยู่ในคลัง แต่ถ้าหาก status มีค่าเท่ากับ out แปลว่า สินค้าไม่มีอยู่ในคลังื(หมด stock) และคอมลัมน์ “promotion” คือค่าที่บอกว่าสินค้าชิ้นนั้นเข้าร่วมโปรโมชั่นอยู่หรือไม่&nbsp;</span> \n",
                "\n",
                "<span style=\"font-size: 11pt; font-family: Sarabun, sans-serif; color: rgb(0, 0, 0); background-color: transparent; font-variant-numeric: normal; font-variant-east-asian: normal; vertical-align: baseline; white-space: pre-wrap;\">จากผลลัพธ์ของตารางข้างต้นทำให้สรุปได้ว่า ณ ตอนนี้<i>มีสินค้าอยู่ 3 ชนิดที่เข้าร่วมโปรโมชั่นและขายจนหมด stock โดยไม่มีสินค้าเหลืออยู่ในคลัง</i> ทำให้ Hello Pharmacy สามารถนำมาวิเคราะห์ต่อได้ว่า การทำโปรโมชั่นกับสินค้าเหล่านี้ได้รับการตอบรับจากลูกค้าเป็นอย่างดีจนไม่เพียงพอต่อความต้องการของลูกค้า ทาง<b>บริษัทควรจะหาสินค้ามาเพิ่ม</b> หรืออาจจะ<b>ติดต่อกับ supplier</b> ว่าในการสั่งสินค้าครั้งถัดไป จะ<b>สั่งสินค้าใน lot size ที่ใหญ่ขึ้น ในราคาที่ถูกลง</b> ทางบริษัทจะได้มีต้นทุนที่ไม่สูงมาก และมีกำไรที่เพิ่มขึ้นจากการทำ promotion ต่อไป</span>"
            ],
            "metadata": {
                "azdata_cell_guid": "19a9e063-199c-48e7-b6b2-ac97bed99df6"
            },
            "attachments": {}
        },
        {
            "cell_type": "markdown",
            "source": [
                "# Conclusion"
            ],
            "metadata": {
                "azdata_cell_guid": "55890682-8800-4d20-8236-900896a11b11"
            },
            "attachments": {}
        },
        {
            "cell_type": "markdown",
            "source": [
                "<span style=\"font-size: 11pt; font-family: Sarabun, sans-serif; color: rgb(0, 0, 0); background-color: transparent; font-variant-numeric: normal; font-variant-east-asian: normal; vertical-align: baseline; white-space: pre-wrap;\">จากการสืบค้นและวิเคราะห์ข้อมูลทั้งหมดของร้าน Hello Pharmacy พบว่ากลุ่มเป้าหมายของทางร้าน ได้แก่ ลูกค้าวัยผู้ใหญ่ตอนต้นจนถึงผู้สูงอายุ โดยยอดขายส่วนใหญ่มาจากกรุงเทพมหานคร ทั้งจากการขายหน้าร้านและช่องทาง online ซึ่งสินค้าที่ได้รับความนิยมมาก คือสินค้าประเภทผลิตภัณฑ์ดูแลความงามและประเภทคุณแม่และเด็กตามลำดับ&nbsp;</span> \n",
                "\n",
                "<span style=\"background-color: transparent; color: rgb(0, 0, 0); font-family: Sarabun, sans-serif; font-size: 11pt; white-space: pre-wrap; text-indent: 36pt;\">จากข้อมูลข้างต้น สามารถสรุปได้ว่า ทางร้านควรจัดทำโปรโมชั่นการขายสินค้าและการชำระงินให้ตรงกับความต้องการของลูกค้า และจัดทำแผนการตลาดเพื่อสนับสนุนการขายสินค้า ทั้งสินค้าที่ได้รับความนิยมเป็นอย่างมากอยู่แล้ว และสินค้าที่ต้องการเพิ่มยอดขายให้มากขึ้น รวมไปถึงมีการจัดการสินค้าคงคลังที่เหมาะสมกับการขายสินค้าที่เกิดขึ้น และควรมีแผนในการขยายสาขา เพื่อให้รองรับการเติบโตของตลาดและสังคมผู้สูงอายุในอนาคต</span>"
            ],
            "metadata": {
                "azdata_cell_guid": "5150807e-a9f6-4f46-a4ec-ab68c37593cb"
            },
            "attachments": {}
        },
        {
            "cell_type": "markdown",
            "source": [
                "# Reference lists\r\n",
                "\r\n",
                "![](บรรณานุกรมใหม่.png)"
            ],
            "metadata": {
                "azdata_cell_guid": "f691de59-d40e-4086-8f2e-21186427c3c9"
            },
            "attachments": {}
        },
        {
            "cell_type": "markdown",
            "source": [
                "# ERD\r\n",
                "![](ERDร้านขายยา.jpg)"
            ],
            "metadata": {
                "azdata_cell_guid": "095e2f44-8efc-41aa-90e9-a465cd2b3210"
            },
            "attachments": {}
        }
    ]
}